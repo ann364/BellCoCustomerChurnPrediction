{
 "cells": [
  {
   "cell_type": "markdown",
   "metadata": {},
   "source": [
    "# Bell & Co. Customer Churn Prediction\n",
    "\n",
    "## Introduction:\n",
    "\n",
    "In this project, we are analyzing the type of customers who are leaving the Bell & Co. telephone company subscription. We also are trying to find potential indicators on why these customers are leaving. \n",
    "\n",
    "The goal of this project is to predict customers who will leave the company. For this we will use various models on given customer data. We will split the data into training and testing sets. We will fetch the training data into our model and test the efficiency of the model via training data set. At the end we will prescribe the tele-company on how to mitigate the customer churning."
   ]
  },
  {
   "cell_type": "code",
   "execution_count": 162,
   "metadata": {},
   "outputs": [],
   "source": [
    "library(corrplot)\n",
    "library(cowplot)\n",
    "library(ggplot2)\n",
    "library(gridExtra)\n",
    "library(randomForest)\n",
    "library(caret)\n",
    "library(party)\n",
    "library(gmodels)"
   ]
  },
  {
   "cell_type": "code",
   "execution_count": 163,
   "metadata": {},
   "outputs": [],
   "source": [
    "setwd(\"C:/GitBird Projects/BellCoCustomerChurn/Dataset\")"
   ]
  },
  {
   "cell_type": "code",
   "execution_count": 164,
   "metadata": {},
   "outputs": [],
   "source": [
    "customer_data<-read.csv(\"BellCo-Customer-Churn.csv\", header = TRUE)"
   ]
  },
  {
   "cell_type": "code",
   "execution_count": 165,
   "metadata": {},
   "outputs": [
    {
     "data": {
      "text/html": [
       "7043"
      ],
      "text/latex": [
       "7043"
      ],
      "text/markdown": [
       "7043"
      ],
      "text/plain": [
       "[1] 7043"
      ]
     },
     "metadata": {},
     "output_type": "display_data"
    }
   ],
   "source": [
    "nrow(customer_data)"
   ]
  },
  {
   "cell_type": "markdown",
   "metadata": {},
   "source": [
    "## Decipher, Dedupe and Clean Data"
   ]
  },
  {
   "cell_type": "code",
   "execution_count": 166,
   "metadata": {},
   "outputs": [
    {
     "name": "stdout",
     "output_type": "stream",
     "text": [
      "'data.frame':\t7043 obs. of  21 variables:\n",
      " $ customerID      : Factor w/ 7043 levels \"0002-ORFBO\",\"0003-MKNFE\",..: 5376 3963 2565 5536 6512 6552 1003 4771 5605 4535 ...\n",
      " $ gender          : Factor w/ 2 levels \"Female\",\"Male\": 1 2 2 2 1 1 2 1 1 2 ...\n",
      " $ SeniorCitizen   : int  0 0 0 0 0 0 0 0 0 0 ...\n",
      " $ Partner         : Factor w/ 2 levels \"No\",\"Yes\": 2 1 1 1 1 1 1 1 2 1 ...\n",
      " $ Dependents      : Factor w/ 2 levels \"No\",\"Yes\": 1 1 1 1 1 1 2 1 1 2 ...\n",
      " $ tenure          : int  1 34 2 45 2 8 22 10 28 62 ...\n",
      " $ PhoneService    : Factor w/ 2 levels \"No\",\"Yes\": 1 2 2 1 2 2 2 1 2 2 ...\n",
      " $ MultipleLines   : Factor w/ 3 levels \"No\",\"No phone service\",..: 2 1 1 2 1 3 3 2 3 1 ...\n",
      " $ InternetService : Factor w/ 3 levels \"DSL\",\"Fiber optic\",..: 1 1 1 1 2 2 2 1 2 1 ...\n",
      " $ OnlineSecurity  : Factor w/ 3 levels \"No\",\"No internet service\",..: 1 3 3 3 1 1 1 3 1 3 ...\n",
      " $ OnlineBackup    : Factor w/ 3 levels \"No\",\"No internet service\",..: 3 1 3 1 1 1 3 1 1 3 ...\n",
      " $ DeviceProtection: Factor w/ 3 levels \"No\",\"No internet service\",..: 1 3 1 3 1 3 1 1 3 1 ...\n",
      " $ TechSupport     : Factor w/ 3 levels \"No\",\"No internet service\",..: 1 1 1 3 1 1 1 1 3 1 ...\n",
      " $ StreamingTV     : Factor w/ 3 levels \"No\",\"No internet service\",..: 1 1 1 1 1 3 3 1 3 1 ...\n",
      " $ StreamingMovies : Factor w/ 3 levels \"No\",\"No internet service\",..: 1 1 1 1 1 3 1 1 3 1 ...\n",
      " $ Contract        : Factor w/ 3 levels \"Month-to-month\",..: 1 2 1 2 1 1 1 1 1 2 ...\n",
      " $ PaperlessBilling: Factor w/ 2 levels \"No\",\"Yes\": 2 1 2 1 2 2 2 1 2 1 ...\n",
      " $ PaymentMethod   : Factor w/ 4 levels \"Bank transfer (automatic)\",..: 3 4 4 1 3 3 2 4 3 1 ...\n",
      " $ MonthlyCharges  : num  29.9 57 53.9 42.3 70.7 ...\n",
      " $ TotalCharges    : num  29.9 1889.5 108.2 1840.8 151.7 ...\n",
      " $ Churn           : Factor w/ 2 levels \"No\",\"Yes\": 1 1 2 1 2 2 1 1 2 1 ...\n"
     ]
    }
   ],
   "source": [
    "str(customer_data)"
   ]
  },
  {
   "cell_type": "code",
   "execution_count": 167,
   "metadata": {
    "scrolled": true
   },
   "outputs": [
    {
     "data": {
      "text/html": [
       "<table>\n",
       "<thead><tr><th scope=col>customerID</th><th scope=col>gender</th><th scope=col>SeniorCitizen</th><th scope=col>Partner</th><th scope=col>Dependents</th><th scope=col>tenure</th><th scope=col>PhoneService</th><th scope=col>MultipleLines</th><th scope=col>InternetService</th><th scope=col>OnlineSecurity</th><th scope=col>...</th><th scope=col>DeviceProtection</th><th scope=col>TechSupport</th><th scope=col>StreamingTV</th><th scope=col>StreamingMovies</th><th scope=col>Contract</th><th scope=col>PaperlessBilling</th><th scope=col>PaymentMethod</th><th scope=col>MonthlyCharges</th><th scope=col>TotalCharges</th><th scope=col>Churn</th></tr></thead>\n",
       "<tbody>\n",
       "\t<tr><td>7590-VHVEG               </td><td>Female                   </td><td>0                        </td><td>Yes                      </td><td>No                       </td><td> 1                       </td><td>No                       </td><td>No phone service         </td><td>DSL                      </td><td>No                       </td><td>...                      </td><td>No                       </td><td>No                       </td><td>No                       </td><td>No                       </td><td>Month-to-month           </td><td>Yes                      </td><td>Electronic check         </td><td>29.85                    </td><td>  29.85                  </td><td>No                       </td></tr>\n",
       "\t<tr><td>5575-GNVDE               </td><td>Male                     </td><td>0                        </td><td>No                       </td><td>No                       </td><td>34                       </td><td>Yes                      </td><td>No                       </td><td>DSL                      </td><td>Yes                      </td><td>...                      </td><td>Yes                      </td><td>No                       </td><td>No                       </td><td>No                       </td><td>One year                 </td><td>No                       </td><td>Mailed check             </td><td>56.95                    </td><td>1889.50                  </td><td>No                       </td></tr>\n",
       "\t<tr><td>3668-QPYBK               </td><td>Male                     </td><td>0                        </td><td>No                       </td><td>No                       </td><td> 2                       </td><td>Yes                      </td><td>No                       </td><td>DSL                      </td><td>Yes                      </td><td>...                      </td><td>No                       </td><td>No                       </td><td>No                       </td><td>No                       </td><td>Month-to-month           </td><td>Yes                      </td><td>Mailed check             </td><td>53.85                    </td><td> 108.15                  </td><td>Yes                      </td></tr>\n",
       "\t<tr><td>7795-CFOCW               </td><td>Male                     </td><td>0                        </td><td>No                       </td><td>No                       </td><td>45                       </td><td>No                       </td><td>No phone service         </td><td>DSL                      </td><td>Yes                      </td><td>...                      </td><td>Yes                      </td><td>Yes                      </td><td>No                       </td><td>No                       </td><td>One year                 </td><td>No                       </td><td>Bank transfer (automatic)</td><td>42.30                    </td><td>1840.75                  </td><td>No                       </td></tr>\n",
       "\t<tr><td>9237-HQITU               </td><td>Female                   </td><td>0                        </td><td>No                       </td><td>No                       </td><td> 2                       </td><td>Yes                      </td><td>No                       </td><td>Fiber optic              </td><td>No                       </td><td>...                      </td><td>No                       </td><td>No                       </td><td>No                       </td><td>No                       </td><td>Month-to-month           </td><td>Yes                      </td><td>Electronic check         </td><td>70.70                    </td><td> 151.65                  </td><td>Yes                      </td></tr>\n",
       "\t<tr><td>9305-CDSKC               </td><td>Female                   </td><td>0                        </td><td>No                       </td><td>No                       </td><td> 8                       </td><td>Yes                      </td><td>Yes                      </td><td>Fiber optic              </td><td>No                       </td><td>...                      </td><td>Yes                      </td><td>No                       </td><td>Yes                      </td><td>Yes                      </td><td>Month-to-month           </td><td>Yes                      </td><td>Electronic check         </td><td>99.65                    </td><td> 820.50                  </td><td>Yes                      </td></tr>\n",
       "</tbody>\n",
       "</table>\n"
      ],
      "text/latex": [
       "\\begin{tabular}{r|lllllllllllllllllllll}\n",
       " customerID & gender & SeniorCitizen & Partner & Dependents & tenure & PhoneService & MultipleLines & InternetService & OnlineSecurity & ... & DeviceProtection & TechSupport & StreamingTV & StreamingMovies & Contract & PaperlessBilling & PaymentMethod & MonthlyCharges & TotalCharges & Churn\\\\\n",
       "\\hline\n",
       "\t 7590-VHVEG                & Female                    & 0                         & Yes                       & No                        &  1                        & No                        & No phone service          & DSL                       & No                        & ...                       & No                        & No                        & No                        & No                        & Month-to-month            & Yes                       & Electronic check          & 29.85                     &   29.85                   & No                       \\\\\n",
       "\t 5575-GNVDE                & Male                      & 0                         & No                        & No                        & 34                        & Yes                       & No                        & DSL                       & Yes                       & ...                       & Yes                       & No                        & No                        & No                        & One year                  & No                        & Mailed check              & 56.95                     & 1889.50                   & No                       \\\\\n",
       "\t 3668-QPYBK                & Male                      & 0                         & No                        & No                        &  2                        & Yes                       & No                        & DSL                       & Yes                       & ...                       & No                        & No                        & No                        & No                        & Month-to-month            & Yes                       & Mailed check              & 53.85                     &  108.15                   & Yes                      \\\\\n",
       "\t 7795-CFOCW                & Male                      & 0                         & No                        & No                        & 45                        & No                        & No phone service          & DSL                       & Yes                       & ...                       & Yes                       & Yes                       & No                        & No                        & One year                  & No                        & Bank transfer (automatic) & 42.30                     & 1840.75                   & No                       \\\\\n",
       "\t 9237-HQITU                & Female                    & 0                         & No                        & No                        &  2                        & Yes                       & No                        & Fiber optic               & No                        & ...                       & No                        & No                        & No                        & No                        & Month-to-month            & Yes                       & Electronic check          & 70.70                     &  151.65                   & Yes                      \\\\\n",
       "\t 9305-CDSKC                & Female                    & 0                         & No                        & No                        &  8                        & Yes                       & Yes                       & Fiber optic               & No                        & ...                       & Yes                       & No                        & Yes                       & Yes                       & Month-to-month            & Yes                       & Electronic check          & 99.65                     &  820.50                   & Yes                      \\\\\n",
       "\\end{tabular}\n"
      ],
      "text/markdown": [
       "\n",
       "| customerID | gender | SeniorCitizen | Partner | Dependents | tenure | PhoneService | MultipleLines | InternetService | OnlineSecurity | ... | DeviceProtection | TechSupport | StreamingTV | StreamingMovies | Contract | PaperlessBilling | PaymentMethod | MonthlyCharges | TotalCharges | Churn |\n",
       "|---|---|---|---|---|---|---|---|---|---|---|---|---|---|---|---|---|---|---|---|---|\n",
       "| 7590-VHVEG                | Female                    | 0                         | Yes                       | No                        |  1                        | No                        | No phone service          | DSL                       | No                        | ...                       | No                        | No                        | No                        | No                        | Month-to-month            | Yes                       | Electronic check          | 29.85                     |   29.85                   | No                        |\n",
       "| 5575-GNVDE                | Male                      | 0                         | No                        | No                        | 34                        | Yes                       | No                        | DSL                       | Yes                       | ...                       | Yes                       | No                        | No                        | No                        | One year                  | No                        | Mailed check              | 56.95                     | 1889.50                   | No                        |\n",
       "| 3668-QPYBK                | Male                      | 0                         | No                        | No                        |  2                        | Yes                       | No                        | DSL                       | Yes                       | ...                       | No                        | No                        | No                        | No                        | Month-to-month            | Yes                       | Mailed check              | 53.85                     |  108.15                   | Yes                       |\n",
       "| 7795-CFOCW                | Male                      | 0                         | No                        | No                        | 45                        | No                        | No phone service          | DSL                       | Yes                       | ...                       | Yes                       | Yes                       | No                        | No                        | One year                  | No                        | Bank transfer (automatic) | 42.30                     | 1840.75                   | No                        |\n",
       "| 9237-HQITU                | Female                    | 0                         | No                        | No                        |  2                        | Yes                       | No                        | Fiber optic               | No                        | ...                       | No                        | No                        | No                        | No                        | Month-to-month            | Yes                       | Electronic check          | 70.70                     |  151.65                   | Yes                       |\n",
       "| 9305-CDSKC                | Female                    | 0                         | No                        | No                        |  8                        | Yes                       | Yes                       | Fiber optic               | No                        | ...                       | Yes                       | No                        | Yes                       | Yes                       | Month-to-month            | Yes                       | Electronic check          | 99.65                     |  820.50                   | Yes                       |\n",
       "\n"
      ],
      "text/plain": [
       "  customerID gender SeniorCitizen Partner Dependents tenure PhoneService\n",
       "1 7590-VHVEG Female 0             Yes     No          1     No          \n",
       "2 5575-GNVDE Male   0             No      No         34     Yes         \n",
       "3 3668-QPYBK Male   0             No      No          2     Yes         \n",
       "4 7795-CFOCW Male   0             No      No         45     No          \n",
       "5 9237-HQITU Female 0             No      No          2     Yes         \n",
       "6 9305-CDSKC Female 0             No      No          8     Yes         \n",
       "  MultipleLines    InternetService OnlineSecurity ... DeviceProtection\n",
       "1 No phone service DSL             No             ... No              \n",
       "2 No               DSL             Yes            ... Yes             \n",
       "3 No               DSL             Yes            ... No              \n",
       "4 No phone service DSL             Yes            ... Yes             \n",
       "5 No               Fiber optic     No             ... No              \n",
       "6 Yes              Fiber optic     No             ... Yes             \n",
       "  TechSupport StreamingTV StreamingMovies Contract       PaperlessBilling\n",
       "1 No          No          No              Month-to-month Yes             \n",
       "2 No          No          No              One year       No              \n",
       "3 No          No          No              Month-to-month Yes             \n",
       "4 Yes         No          No              One year       No              \n",
       "5 No          No          No              Month-to-month Yes             \n",
       "6 No          Yes         Yes             Month-to-month Yes             \n",
       "  PaymentMethod             MonthlyCharges TotalCharges Churn\n",
       "1 Electronic check          29.85            29.85      No   \n",
       "2 Mailed check              56.95          1889.50      No   \n",
       "3 Mailed check              53.85           108.15      Yes  \n",
       "4 Bank transfer (automatic) 42.30          1840.75      No   \n",
       "5 Electronic check          70.70           151.65      Yes  \n",
       "6 Electronic check          99.65           820.50      Yes  "
      ]
     },
     "metadata": {},
     "output_type": "display_data"
    }
   ],
   "source": [
    "head(customer_data)"
   ]
  },
  {
   "cell_type": "markdown",
   "metadata": {},
   "source": [
    "‘Churn’ is our target variable. It is using binomial categorical values i.e. ‘Yes’ or ‘No’. It tells us if the customer left the company or not.\n",
    "\n",
    "‘‘TotalCharges’ and ‘MonthlyCharges’ are numerical variables. ‘TotalCharges’ has few missing entries which can be substituted with NA for visibility, or with mean value But I chose to delete whole rows where data are missing because there were not many missing entries. "
   ]
  },
  {
   "cell_type": "code",
   "execution_count": 168,
   "metadata": {},
   "outputs": [],
   "source": [
    "#Find Missing entries and replace with NAs\n",
    "customer_data[customer_data == \"?\"] <- NA"
   ]
  },
  {
   "cell_type": "code",
   "execution_count": 169,
   "metadata": {},
   "outputs": [
    {
     "data": {
      "text/html": [
       "'TotalCharges'"
      ],
      "text/latex": [
       "'TotalCharges'"
      ],
      "text/markdown": [
       "'TotalCharges'"
      ],
      "text/plain": [
       "[1] \"TotalCharges\""
      ]
     },
     "metadata": {},
     "output_type": "display_data"
    }
   ],
   "source": [
    "colnames(customer_data)[ apply(customer_data, 2, anyNA)]"
   ]
  },
  {
   "cell_type": "code",
   "execution_count": 170,
   "metadata": {},
   "outputs": [
    {
     "data": {
      "text/html": [
       "11"
      ],
      "text/latex": [
       "11"
      ],
      "text/markdown": [
       "11"
      ],
      "text/plain": [
       "[1] 11"
      ]
     },
     "metadata": {},
     "output_type": "display_data"
    }
   ],
   "source": [
    "nrow(customer_data[is.na(customer_data$TotalCharges),])"
   ]
  },
  {
   "cell_type": "code",
   "execution_count": 171,
   "metadata": {},
   "outputs": [
    {
     "data": {
      "text/html": [
       "7032"
      ],
      "text/latex": [
       "7032"
      ],
      "text/markdown": [
       "7032"
      ],
      "text/plain": [
       "[1] 7032"
      ]
     },
     "metadata": {},
     "output_type": "display_data"
    }
   ],
   "source": [
    "#Remove NA rows\n",
    "customer_data <- customer_data[!(is.na(customer_data$TotalCharges)),]\n",
    "nrow(customer_data)"
   ]
  },
  {
   "cell_type": "markdown",
   "metadata": {},
   "source": [
    "‘Senior Citizen’ is an independent predictor variable which takes in binomial numerical variable 0 of ‘No’ and 1 for ‘Yes’. This data can be changed into binomial categorial variable by replacing 0 and 1s with No and Yes and converting the variable into factor. "
   ]
  },
  {
   "cell_type": "code",
   "execution_count": 172,
   "metadata": {},
   "outputs": [],
   "source": [
    "#Changing SeniorCitizen to categorical data \n",
    "customer_data[customer_data$SeniorCitizen == 0,]$SeniorCitizen <- \"No\"\n",
    "customer_data[customer_data$SeniorCitizen == 1,]$SeniorCitizen <- \"Yes\"\n",
    "customer_data$SeniorCitizen <- as.factor(customer_data$SeniorCitizen)"
   ]
  },
  {
   "cell_type": "markdown",
   "metadata": {},
   "source": [
    "Binomial categorical values take: ‘Yes’ or ‘No’. There are several other categorical variables. Some of the categorial data values are labeled different but basically means the same – e.g. “No Phone Service” is same as “No”. Hence, we dedupe the provided data."
   ]
  },
  {
   "cell_type": "code",
   "execution_count": 173,
   "metadata": {},
   "outputs": [
    {
     "data": {
      "text/html": [
       "'MultipleLines'"
      ],
      "text/latex": [
       "'MultipleLines'"
      ],
      "text/markdown": [
       "'MultipleLines'"
      ],
      "text/plain": [
       "[1] \"MultipleLines\""
      ]
     },
     "metadata": {},
     "output_type": "display_data"
    }
   ],
   "source": [
    "#Some fields have more than Just Yes and No.\n",
    "#Get Unique Colnames where customer data has No phone service\n",
    "unique(colnames(customer_data)[which(customer_data == \"No phone service\", arr.ind=TRUE)[,2]])"
   ]
  },
  {
   "cell_type": "code",
   "execution_count": 117,
   "metadata": {},
   "outputs": [],
   "source": [
    "#Substitute No Phone Service to No\n",
    "customer_data[customer_data$MultipleLines == \"No phone service\",]$MultipleLines <- \"No\""
   ]
  },
  {
   "cell_type": "markdown",
   "metadata": {},
   "source": [
    "Similarly, substituted \"No Internet Service\" to \"No\" values for other variables"
   ]
  },
  {
   "cell_type": "code",
   "execution_count": 118,
   "metadata": {},
   "outputs": [
    {
     "data": {
      "text/html": [
       "<ol class=list-inline>\n",
       "\t<li>'OnlineSecurity'</li>\n",
       "\t<li>'OnlineBackup'</li>\n",
       "\t<li>'DeviceProtection'</li>\n",
       "\t<li>'TechSupport'</li>\n",
       "\t<li>'StreamingTV'</li>\n",
       "\t<li>'StreamingMovies'</li>\n",
       "</ol>\n"
      ],
      "text/latex": [
       "\\begin{enumerate*}\n",
       "\\item 'OnlineSecurity'\n",
       "\\item 'OnlineBackup'\n",
       "\\item 'DeviceProtection'\n",
       "\\item 'TechSupport'\n",
       "\\item 'StreamingTV'\n",
       "\\item 'StreamingMovies'\n",
       "\\end{enumerate*}\n"
      ],
      "text/markdown": [
       "1. 'OnlineSecurity'\n",
       "2. 'OnlineBackup'\n",
       "3. 'DeviceProtection'\n",
       "4. 'TechSupport'\n",
       "5. 'StreamingTV'\n",
       "6. 'StreamingMovies'\n",
       "\n",
       "\n"
      ],
      "text/plain": [
       "[1] \"OnlineSecurity\"   \"OnlineBackup\"     \"DeviceProtection\" \"TechSupport\"     \n",
       "[5] \"StreamingTV\"      \"StreamingMovies\" "
      ]
     },
     "metadata": {},
     "output_type": "display_data"
    }
   ],
   "source": [
    "#Get Unique Colnames where customer data has No internet service\n",
    "unique(colnames(customer_data)[which(customer_data == \"No internet service\", arr.ind=TRUE)[,2]])"
   ]
  },
  {
   "cell_type": "code",
   "execution_count": 176,
   "metadata": {},
   "outputs": [],
   "source": [
    "#Substitute No Internet Service to No\n",
    "customer_data[customer_data$OnlineSecurity == \"No internet service\",]$OnlineSecurity <- \"No\"\n",
    "customer_data[customer_data$OnlineBackup == \"No internet service\",]$OnlineBackup <- \"No\"\n",
    "customer_data[customer_data$DeviceProtection == \"No internet service\",]$DeviceProtection <- \"No\"\n",
    "customer_data[customer_data$TechSupport == \"No internet service\",]$TechSupport <- \"No\"\n",
    "customer_data[customer_data$StreamingTV == \"No internet service\",]$StreamingTV <- \"No\"\n",
    "customer_data[customer_data$StreamingMovies == \"No internet service\",]$StreamingMovies <- \"No\""
   ]
  },
  {
   "cell_type": "markdown",
   "metadata": {},
   "source": [
    "Checked and removed duplicate customer info (But there were no duplicates in this case)"
   ]
  },
  {
   "cell_type": "code",
   "execution_count": 174,
   "metadata": {},
   "outputs": [],
   "source": [
    "#Dedupe\n",
    "deduped_cus_data<-customer_data[!duplicated(customer_data[\"customerID\"]),]"
   ]
  },
  {
   "cell_type": "code",
   "execution_count": 175,
   "metadata": {},
   "outputs": [
    {
     "data": {
      "text/html": [
       "7032"
      ],
      "text/latex": [
       "7032"
      ],
      "text/markdown": [
       "7032"
      ],
      "text/plain": [
       "[1] 7032"
      ]
     },
     "metadata": {},
     "output_type": "display_data"
    }
   ],
   "source": [
    "nrow(deduped_cus_data) \n",
    "# the number of rows are same so nothing to dedupe"
   ]
  },
  {
   "cell_type": "markdown",
   "metadata": {},
   "source": [
    "Grouped ages and translated ‘Tenure’ column to  ‘TenureCategories’ . Removed ‘Tenure’  column."
   ]
  },
  {
   "cell_type": "code",
   "execution_count": 177,
   "metadata": {},
   "outputs": [],
   "source": [
    "# create  tenure categories \n",
    "attach(customer_data)\n",
    "customer_data$tenure_category[customer_data$tenure > 60] <- \"Over 5 years \"\n",
    "customer_data$tenure_category[customer_data$tenure > 48 & customer_data$tenure <= 60] <- \"4-5 years\"\n",
    "customer_data$tenure_category[customer_data$tenure > 24 & customer_data$tenure <= 48] <- \"2-4 years\"\n",
    "customer_data$tenure_category[customer_data$tenure > 12 & customer_data$tenure <= 24] <- \"1-2 years\"\n",
    "customer_data$tenure_category[customer_data$tenure<= 12] <- \"Under 1 year\"\n",
    "detach(customer_data)\n",
    "customer_data$tenure_category <- as.factor(customer_data$tenure_category)"
   ]
  },
  {
   "cell_type": "code",
   "execution_count": 178,
   "metadata": {},
   "outputs": [],
   "source": [
    "#Remove columns that won't be used for modeling\n",
    "customer_data$customerID <-NULL\n",
    "customer_data$tenure <- NULL"
   ]
  },
  {
   "cell_type": "markdown",
   "metadata": {},
   "source": [
    "## Correlated data\n",
    "\n",
    "Correlation function helps to identify if there is strong or negative relationship between numeric variables. In our case, we have _TotalCharges and MonthlyCharges_. _TotalCharges_ essentially is derived from _MonthlyCharges_. But just for sake of it, we also see that there is strong relation between these two variables. Correlation provides positive or negative relation measured between -1 to 1\n",
    "corrplot. gives heat map of relation between two numerical variables. It is better than a line or bar plot as heat map gives intensity of relationships with shades which cannot be given by other methods. \n"
   ]
  },
  {
   "cell_type": "code",
   "execution_count": 179,
   "metadata": {},
   "outputs": [
    {
     "data": {
      "text/html": [
       "<ol class=list-inline>\n",
       "\t<li>'MonthlyCharges'</li>\n",
       "\t<li>'TotalCharges'</li>\n",
       "</ol>\n"
      ],
      "text/latex": [
       "\\begin{enumerate*}\n",
       "\\item 'MonthlyCharges'\n",
       "\\item 'TotalCharges'\n",
       "\\end{enumerate*}\n"
      ],
      "text/markdown": [
       "1. 'MonthlyCharges'\n",
       "2. 'TotalCharges'\n",
       "\n",
       "\n"
      ],
      "text/plain": [
       "[1] \"MonthlyCharges\" \"TotalCharges\"  "
      ]
     },
     "metadata": {},
     "output_type": "display_data"
    },
    {
     "data": {
      "text/html": [
       "<table>\n",
       "<thead><tr><th></th><th scope=col>MonthlyCharges</th><th scope=col>TotalCharges</th></tr></thead>\n",
       "<tbody>\n",
       "\t<tr><th scope=row>MonthlyCharges</th><td>1.0000000</td><td>0.6510648</td></tr>\n",
       "\t<tr><th scope=row>TotalCharges</th><td>0.6510648</td><td>1.0000000</td></tr>\n",
       "</tbody>\n",
       "</table>\n"
      ],
      "text/latex": [
       "\\begin{tabular}{r|ll}\n",
       "  & MonthlyCharges & TotalCharges\\\\\n",
       "\\hline\n",
       "\tMonthlyCharges & 1.0000000 & 0.6510648\\\\\n",
       "\tTotalCharges & 0.6510648 & 1.0000000\\\\\n",
       "\\end{tabular}\n"
      ],
      "text/markdown": [
       "\n",
       "| <!--/--> | MonthlyCharges | TotalCharges |\n",
       "|---|---|---|\n",
       "| MonthlyCharges | 1.0000000 | 0.6510648 |\n",
       "| TotalCharges | 0.6510648 | 1.0000000 |\n",
       "\n"
      ],
      "text/plain": [
       "               MonthlyCharges TotalCharges\n",
       "MonthlyCharges 1.0000000      0.6510648   \n",
       "TotalCharges   0.6510648      1.0000000   "
      ]
     },
     "metadata": {},
     "output_type": "display_data"
    }
   ],
   "source": [
    "# Find Correlation and plot between numeric field\n",
    "colnames(customer_data[sapply(customer_data,is.numeric)])\n",
    "numeric_correlation<-cor(customer_data[,sapply(customer_data, is.numeric)])\n",
    "numeric_correlation"
   ]
  },
  {
   "cell_type": "code",
   "execution_count": 182,
   "metadata": {},
   "outputs": [
    {
     "data": {
      "image/png": "[encoded data removed]",
      "text/plain": [
       "Plot with title \"Correlation for Numeric Fields\""
      ]
     },
     "metadata": {},
     "output_type": "display_data"
    }
   ],
   "source": [
    "corrplot(numeric_correlation, main=\"Correlation for Numeric Fields\", method=\"circle\", addCoef.col = \"black\")"
   ]
  },
  {
   "cell_type": "markdown",
   "metadata": {},
   "source": [
    "There were three numeric variables to start out with. But after _SeniorCitizen_ was changed into categorical factor variable, we find numeric relation between remaining variables: _MonthlyCharges_ and _TotalCharges_. We see that correlation coefficient between them is 0.65 which is gearing towards high correlation. Hence, we drop one of the variables. Since it is easier to compare monthly charges of customers who have varying tenures, we drop _TotalCharges_."
   ]
  },
  {
   "cell_type": "code",
   "execution_count": 183,
   "metadata": {},
   "outputs": [],
   "source": [
    "#MonthlyCharges is almost highly correlated with TotalCharges.\n",
    "#Removing TotalCharges\n",
    "customer_data$TotalCharges<-NULL"
   ]
  },
  {
   "cell_type": "code",
   "execution_count": 184,
   "metadata": {},
   "outputs": [],
   "source": [
    "#Saving Clean Data\n",
    "write.csv(customer_data,\"C:/GitBird Projects/BellCoCustomerChurn/Dataset/customer_data_clean.csv\")"
   ]
  },
  {
   "cell_type": "markdown",
   "metadata": {},
   "source": [
    "## Data Analysis\n",
    "\n",
    "### Distribution of Categorical Variables\n",
    "\n",
    "We also would like to see count and percent count of each predictor variables to see Churn ratio between different values in a variable. "
   ]
  },
  {
   "cell_type": "code",
   "execution_count": 128,
   "metadata": {},
   "outputs": [
    {
     "data": {
      "text/html": [
       "<ol class=list-inline>\n",
       "\t<li>'gender'</li>\n",
       "\t<li>'SeniorCitizen'</li>\n",
       "\t<li>'Partner'</li>\n",
       "\t<li>'Dependents'</li>\n",
       "\t<li>'PhoneService'</li>\n",
       "\t<li>'MultipleLines'</li>\n",
       "\t<li>'InternetService'</li>\n",
       "\t<li>'OnlineSecurity'</li>\n",
       "\t<li>'OnlineBackup'</li>\n",
       "\t<li>'DeviceProtection'</li>\n",
       "\t<li>'TechSupport'</li>\n",
       "\t<li>'StreamingTV'</li>\n",
       "\t<li>'StreamingMovies'</li>\n",
       "\t<li>'Contract'</li>\n",
       "\t<li>'PaperlessBilling'</li>\n",
       "\t<li>'PaymentMethod'</li>\n",
       "\t<li>'Churn'</li>\n",
       "\t<li>'tenure_category'</li>\n",
       "</ol>\n"
      ],
      "text/latex": [
       "\\begin{enumerate*}\n",
       "\\item 'gender'\n",
       "\\item 'SeniorCitizen'\n",
       "\\item 'Partner'\n",
       "\\item 'Dependents'\n",
       "\\item 'PhoneService'\n",
       "\\item 'MultipleLines'\n",
       "\\item 'InternetService'\n",
       "\\item 'OnlineSecurity'\n",
       "\\item 'OnlineBackup'\n",
       "\\item 'DeviceProtection'\n",
       "\\item 'TechSupport'\n",
       "\\item 'StreamingTV'\n",
       "\\item 'StreamingMovies'\n",
       "\\item 'Contract'\n",
       "\\item 'PaperlessBilling'\n",
       "\\item 'PaymentMethod'\n",
       "\\item 'Churn'\n",
       "\\item 'tenure\\_category'\n",
       "\\end{enumerate*}\n"
      ],
      "text/markdown": [
       "1. 'gender'\n",
       "2. 'SeniorCitizen'\n",
       "3. 'Partner'\n",
       "4. 'Dependents'\n",
       "5. 'PhoneService'\n",
       "6. 'MultipleLines'\n",
       "7. 'InternetService'\n",
       "8. 'OnlineSecurity'\n",
       "9. 'OnlineBackup'\n",
       "10. 'DeviceProtection'\n",
       "11. 'TechSupport'\n",
       "12. 'StreamingTV'\n",
       "13. 'StreamingMovies'\n",
       "14. 'Contract'\n",
       "15. 'PaperlessBilling'\n",
       "16. 'PaymentMethod'\n",
       "17. 'Churn'\n",
       "18. 'tenure_category'\n",
       "\n",
       "\n"
      ],
      "text/plain": [
       " [1] \"gender\"           \"SeniorCitizen\"    \"Partner\"          \"Dependents\"      \n",
       " [5] \"PhoneService\"     \"MultipleLines\"    \"InternetService\"  \"OnlineSecurity\"  \n",
       " [9] \"OnlineBackup\"     \"DeviceProtection\" \"TechSupport\"      \"StreamingTV\"     \n",
       "[13] \"StreamingMovies\"  \"Contract\"         \"PaperlessBilling\" \"PaymentMethod\"   \n",
       "[17] \"Churn\"            \"tenure_category\" "
      ]
     },
     "metadata": {},
     "output_type": "display_data"
    }
   ],
   "source": [
    "#Plotting Categorical variables\n",
    "colnames(customer_data[sapply(customer_data,is.factor)])"
   ]
  },
  {
   "cell_type": "code",
   "execution_count": 129,
   "metadata": {},
   "outputs": [
    {
     "name": "stdout",
     "output_type": "stream",
     "text": [
      "\n",
      " \n",
      "   Cell Contents\n",
      "|-------------------------|\n",
      "|                       N |\n",
      "|           N / Row Total |\n",
      "|           N / Col Total |\n",
      "|         N / Table Total |\n",
      "|-------------------------|\n",
      "\n",
      " \n",
      "Total Observations in Table:  7032 \n",
      "\n",
      " \n",
      "                     | customer_data$SeniorCitizen \n",
      "customer_data$gender |        No |       Yes | Row Total | \n",
      "---------------------|-----------|-----------|-----------|\n",
      "              Female |      2915 |       568 |      3483 | \n",
      "                     |     0.837 |     0.163 |     0.495 | \n",
      "                     |     0.495 |     0.497 |           | \n",
      "                     |     0.415 |     0.081 |           | \n",
      "---------------------|-----------|-----------|-----------|\n",
      "                Male |      2975 |       574 |      3549 | \n",
      "                     |     0.838 |     0.162 |     0.505 | \n",
      "                     |     0.505 |     0.503 |           | \n",
      "                     |     0.423 |     0.082 |           | \n",
      "---------------------|-----------|-----------|-----------|\n",
      "        Column Total |      5890 |      1142 |      7032 | \n",
      "                     |     0.838 |     0.162 |           | \n",
      "---------------------|-----------|-----------|-----------|\n",
      "\n",
      " \n"
     ]
    },
    {
     "data": {
      "image/png": "[encoded data removed]",
      "text/plain": [
       "plot without title"
      ]
     },
     "metadata": {},
     "output_type": "display_data"
    }
   ],
   "source": [
    "#Bar plot frequency between Senior Citizen along with gender\n",
    "joint <- CrossTable(customer_data$gender, customer_data$SeniorCitizen, prop.chisq = FALSE)\n",
    "barplot(joint$t, beside = FALSE, col=rainbow(4), ylab=\"Frequency\", xlab=\"SeniorCitizen\")\n",
    "legend('topright', c('Female', 'Male'), pch=15, col = rainbow(4))"
   ]
  },
  {
   "cell_type": "markdown",
   "metadata": {},
   "source": [
    "#### Distribution of variables using univariate statistics \n",
    "\n",
    "Making sure Churning comes from each categories. If only males have Churning then we should remove all females"
   ]
  },
  {
   "cell_type": "code",
   "execution_count": 189,
   "metadata": {},
   "outputs": [
    {
     "data": {
      "text/plain": [
       "     gender\n",
       "Churn Female Male\n",
       "  No    2544 2619\n",
       "  Yes    939  930"
      ]
     },
     "metadata": {},
     "output_type": "display_data"
    }
   ],
   "source": [
    "xtabs(~ Churn + gender, data=customer_data)"
   ]
  },
  {
   "cell_type": "markdown",
   "metadata": {},
   "source": [
    "Churn and Not Churn is represented by both Males and Female.\n",
    "\n",
    "We could create similar table for all other variables. But we can also plot bar chart instead."
   ]
  },
  {
   "cell_type": "code",
   "execution_count": 191,
   "metadata": {},
   "outputs": [],
   "source": [
    "#Preparing bar chart for viewing distribution of variables(all boolean and categorical variables that we are using to predict Churning)\n",
    "p2<-ggplot(customer_data, aes(x = SeniorCitizen, y = ((..count..)/sum(..count..))*100)) + geom_bar()+geom_text(stat='count', aes(label= round(((..count..)/sum(..count..))*100, 2)), angle=45, size=4)+ylab(\"Percentage\");\n",
    "p3<-ggplot(customer_data, aes(x = Partner, y = ((..count..)/sum(..count..))*100)) + geom_bar()+geom_text(stat='count', aes(label= round(((..count..)/sum(..count..))*100, 2)), angle=45, size=4)+ylab(\"Percentage\");\n",
    "p4<-ggplot(customer_data, aes(x = Dependents, y = ((..count..)/sum(..count..))*100)) + geom_bar()+geom_text(stat='count', aes(label= round(((..count..)/sum(..count..))*100, 2)), angle=45, size=4)+ylab(\"Percentage\");\n",
    "p5<-ggplot(customer_data, aes(x = tenure_category, y = ((..count..)/sum(..count..))*100)) + geom_bar()+geom_text(stat='count', aes(label= round(((..count..)/sum(..count..))*100, 2)), angle=45, size=4)+ylab(\"Percentage\");\n",
    "p6<-ggplot(customer_data, aes(x = PhoneService, y = ((..count..)/sum(..count..))*100)) + geom_bar()+geom_text(stat='count', aes(label= round(((..count..)/sum(..count..))*100, 2)), angle=45, size=4)+ylab(\"Percentage\");\n",
    "p7<-ggplot(customer_data, aes(x = MultipleLines, y = ((..count..)/sum(..count..))*100)) + geom_bar()+geom_text(stat='count', aes(label= round(((..count..)/sum(..count..))*100, 2)), angle=45, size=4)+ylab(\"Percentage\");\n",
    "p8<-ggplot(customer_data, aes(x = InternetService, y = ((..count..)/sum(..count..))*100)) + geom_bar()+geom_text(stat='count', aes(label= round(((..count..)/sum(..count..))*100, 2)), angle=45, size=4)+ylab(\"Percentage\");\n",
    "p9<-ggplot(customer_data, aes(x = OnlineSecurity, y = ((..count..)/sum(..count..))*100)) + geom_bar()+geom_text(stat='count', aes(label= round(((..count..)/sum(..count..))*100, 2)), angle=45, size=4)+ylab(\"Percentage\");\n",
    "p10<-ggplot(customer_data, aes(x = OnlineBackup, y = ((..count..)/sum(..count..))*100)) + geom_bar()+geom_text(stat='count', aes(label= round(((..count..)/sum(..count..))*100, 2)), angle=45, size=4)+ylab(\"Percentage\");\n",
    "p11<-ggplot(customer_data, aes(x = DeviceProtection, y = ((..count..)/sum(..count..))*100)) + geom_bar()+geom_text(stat='count', aes(label= round(((..count..)/sum(..count..))*100, 2)), angle=45, size=4)+ylab(\"Percentage\");\n",
    "p12<-ggplot(customer_data, aes(x = TechSupport, y = ((..count..)/sum(..count..))*100)) + geom_bar()+geom_text(stat='count', aes(label= round(((..count..)/sum(..count..))*100, 2)), angle=45, size=4)+ylab(\"Percentage\");\n",
    "p13<-ggplot(customer_data, aes(x = StreamingTV, y = ((..count..)/sum(..count..))*100)) + geom_bar()+geom_text(stat='count', aes(label= round(((..count..)/sum(..count..))*100, 2)), angle=45, size=4)+ylab(\"Percentage\");\n",
    "p14<-ggplot(customer_data, aes(x = StreamingMovies, y = ((..count..)/sum(..count..))*100)) + geom_bar()+geom_text(stat='count', aes(label= round(((..count..)/sum(..count..))*100, 2)), angle=45, size=4)+ylab(\"Percentage\");\n",
    "p15<-ggplot(customer_data, aes(x = OnlineBackup, y = ((..count..)/sum(..count..))*100)) + geom_bar()+geom_text(stat='count', aes(label= round(((..count..)/sum(..count..))*100, 2)), angle=45, size=4)+ylab(\"Percentage\");\n",
    "p16<- ggplot(customer_data, aes(x = PaperlessBilling, y = ((..count..)/sum(..count..))*100)) + geom_bar()+geom_text(stat='count', aes(label= round(((..count..)/sum(..count..))*100, 2)), angle=45, size=4)+ylab(\"Percentage\");"
   ]
  },
  {
   "cell_type": "code",
   "execution_count": 193,
   "metadata": {},
   "outputs": [
    {
     "data": {
      "image/png": "[encoded data removed]",
      "text/plain": [
       "plot without title"
      ]
     },
     "metadata": {},
     "output_type": "display_data"
    }
   ],
   "source": [
    "grid.arrange(p1, p2, p3, p4,p5, p6, p7, p8, ncol=4)"
   ]
  },
  {
   "cell_type": "code",
   "execution_count": 134,
   "metadata": {},
   "outputs": [
    {
     "data": {
      "image/png": "[encoded data removed]",
      "text/plain": [
       "plot without title"
      ]
     },
     "metadata": {},
     "output_type": "display_data"
    }
   ],
   "source": [
    "grid.arrange(p9,p10,p11, p12,p13,p14,p15,p16,ncol=4)"
   ]
  },
  {
   "cell_type": "markdown",
   "metadata": {},
   "source": [
    "## Model Choice\n",
    "### Logistic Regression\n",
    "\n",
    "I have chosen logistic regression for predictive modeling while decision tree and random forest for classification. Linear regression was not used because it will only give linear relationship of an outcome variable with other independent variables and not display probability of outcome(churning).\n",
    "\n",
    "Logistic regression is appropriate because _Churn_,the variable we also want to predict, which is the outcome variable is binary (yes or no). The model is helpful in calculating probability of significance for each of the variables affecting the _Churn_. Logistic regression is helpful to calculate churning predictability of each customer by getting probability or log(odds).\n",
    "\n",
    "For modeling and predicting purposes, multiple logistic regression was used because there is one target variable _Churn_ and multiple independent variables. We will pass all the predictor variables with  the target variable _Churn_ into logistic model. We will summarize the significance probability (p value) for each of the variable in respect to churning. \n",
    "\n",
    "We determined important variables by looking at their significance(p-value) and coefficient intercept value in the logistic regression summary. If the variables were not significant in determining the Churn predictability, they were removed from the model. Finally, we created new logistic model to determine predictability of the churn."
   ]
  },
  {
   "cell_type": "code",
   "execution_count": 135,
   "metadata": {},
   "outputs": [
    {
     "data": {
      "text/plain": [
       "\n",
       "Call:\n",
       "glm(formula = Churn ~ SeniorCitizen, family = binomial, data = customer_data)\n",
       "\n",
       "Deviance Residuals: \n",
       "    Min       1Q   Median       3Q      Max  \n",
       "-1.0385  -0.7346  -0.7346   1.3230   1.6981  \n",
       "\n",
       "Coefficients:\n",
       "                 Estimate Std. Error z value Pr(>|z|)    \n",
       "(Intercept)      -1.17195    0.03066  -38.22   <2e-16 ***\n",
       "SeniorCitizenYes  0.83608    0.06740   12.40   <2e-16 ***\n",
       "---\n",
       "Signif. codes:  0 '***' 0.001 '**' 0.01 '*' 0.05 '.' 0.1 ' ' 1\n",
       "\n",
       "(Dispersion parameter for binomial family taken to be 1)\n",
       "\n",
       "    Null deviance: 8143.4  on 7031  degrees of freedom\n",
       "Residual deviance: 7995.2  on 7030  degrees of freedom\n",
       "AIC: 7999.2\n",
       "\n",
       "Number of Fisher Scoring iterations: 4\n"
      ]
     },
     "metadata": {},
     "output_type": "display_data"
    }
   ],
   "source": [
    "#Starting out with Simple logistic regression first\n",
    "logistic_Simple <- glm(Churn ~ SeniorCitizen, data=customer_data, family = binomial)\n",
    "summary(logistic_Simple)"
   ]
  },
  {
   "cell_type": "code",
   "execution_count": 136,
   "metadata": {},
   "outputs": [
    {
     "data": {
      "text/plain": [
       "\n",
       "Call:\n",
       "glm(formula = Churn ~ ., family = binomial, data = customer_data)\n",
       "\n",
       "Deviance Residuals: \n",
       "    Min       1Q   Median       3Q      Max  \n",
       "-2.0064  -0.6736  -0.2892   0.6738   3.1171  \n",
       "\n",
       "Coefficients:\n",
       "                                      Estimate Std. Error z value Pr(>|z|)    \n",
       "(Intercept)                          -0.438567   0.812062  -0.540 0.589151    \n",
       "genderMale                           -0.025235   0.064902  -0.389 0.697409    \n",
       "SeniorCitizenYes                      0.221131   0.084380   2.621 0.008776 ** \n",
       "PartnerYes                           -0.028276   0.077654  -0.364 0.715758    \n",
       "DependentsYes                        -0.130046   0.089660  -1.450 0.146936    \n",
       "PhoneServiceYes                       0.058803   0.650489   0.090 0.927971    \n",
       "MultipleLinesYes                      0.415373   0.177330   2.342 0.019162 *  \n",
       "InternetServiceFiber optic            1.580267   0.800213   1.975 0.048290 *  \n",
       "InternetServiceNo                    -1.508315   0.808605  -1.865 0.062135 .  \n",
       "OnlineSecurityYes                    -0.247037   0.179109  -1.379 0.167815    \n",
       "OnlineBackupYes                      -0.027456   0.175810  -0.156 0.875902    \n",
       "DeviceProtectionYes                   0.115747   0.176503   0.656 0.511966    \n",
       "TechSupportYes                       -0.191646   0.180946  -1.059 0.289539    \n",
       "StreamingTVYes                        0.531577   0.327293   1.624 0.104341    \n",
       "StreamingMoviesYes                    0.542129   0.327534   1.655 0.097888 .  \n",
       "ContractOne year                     -0.771335   0.107022  -7.207 5.71e-13 ***\n",
       "ContractTwo year                     -1.661523   0.181348  -9.162  < 2e-16 ***\n",
       "PaperlessBillingYes                   0.324830   0.074614   4.353 1.34e-05 ***\n",
       "PaymentMethodCredit card (automatic) -0.073921   0.113689  -0.650 0.515558    \n",
       "PaymentMethodElectronic check         0.325761   0.094307   3.454 0.000552 ***\n",
       "PaymentMethodMailed check             0.004783   0.114333   0.042 0.966633    \n",
       "MonthlyCharges                       -0.027157   0.031807  -0.854 0.393211    \n",
       "tenure_category2-4 years             -0.359831   0.107676  -3.342 0.000832 ***\n",
       "tenure_category4-5 years             -0.596369   0.143096  -4.168 3.08e-05 ***\n",
       "tenure_categoryOver 5 years          -0.848936   0.167283  -5.075 3.88e-07 ***\n",
       "tenure_categoryUnder 1 year           0.909133   0.097031   9.369  < 2e-16 ***\n",
       "---\n",
       "Signif. codes:  0 '***' 0.001 '**' 0.01 '*' 0.05 '.' 0.1 ' ' 1\n",
       "\n",
       "(Dispersion parameter for binomial family taken to be 1)\n",
       "\n",
       "    Null deviance: 8143.4  on 7031  degrees of freedom\n",
       "Residual deviance: 5848.4  on 7006  degrees of freedom\n",
       "AIC: 5900.4\n",
       "\n",
       "Number of Fisher Scoring iterations: 6\n"
      ]
     },
     "metadata": {},
     "output_type": "display_data"
    }
   ],
   "source": [
    "#Multiple Logistic Regression - multiple predictor variable\n",
    "logistic_All <- glm(Churn ~ .,data=customer_data, family=binomial)\n",
    "summary(logistic_All)"
   ]
  },
  {
   "cell_type": "markdown",
   "metadata": {},
   "source": [
    "\n",
    "Now, lets drop variables which are not statistically significant from previous model (Logistic_All). We can determine non significant variable by looking at each of their significance of probability value. Some of these variables are:_gender, Partner, PhoneService, Online Backup DeviceProtection_ .\n",
    "\n",
    "Creating a new multiple logistic model from more significant variables:\n",
    "\n"
   ]
  },
  {
   "cell_type": "code",
   "execution_count": 137,
   "metadata": {},
   "outputs": [
    {
     "data": {
      "text/plain": [
       "\n",
       "Call:\n",
       "glm(formula = Churn ~ MonthlyCharges + SeniorCitizen + Dependents + \n",
       "    MultipleLines + InternetService + OnlineSecurity + TechSupport + \n",
       "    StreamingTV + StreamingMovies + Contract + PaperlessBilling + \n",
       "    PaymentMethod + tenure_category, family = binomial, data = customer_data)\n",
       "\n",
       "Deviance Residuals: \n",
       "    Min       1Q   Median       3Q      Max  \n",
       "-2.0173  -0.6739  -0.2885   0.6706   3.1137  \n",
       "\n",
       "Coefficients:\n",
       "                                      Estimate Std. Error z value Pr(>|z|)    \n",
       "(Intercept)                          -0.573560   0.260248  -2.204 0.027531 *  \n",
       "MonthlyCharges                       -0.022957   0.005471  -4.196 2.71e-05 ***\n",
       "SeniorCitizenYes                      0.218818   0.083807   2.611 0.009028 ** \n",
       "DependentsYes                        -0.145377   0.081431  -1.785 0.074218 .  \n",
       "MultipleLinesYes                      0.389492   0.087958   4.428 9.50e-06 ***\n",
       "InternetServiceFiber optic            1.469494   0.191494   7.674 1.67e-14 ***\n",
       "InternetServiceNo                    -1.416832   0.172594  -8.209 2.23e-16 ***\n",
       "OnlineSecurityYes                    -0.270124   0.089482  -3.019 0.002538 ** \n",
       "TechSupportYes                       -0.208507   0.091294  -2.284 0.022377 *  \n",
       "StreamingTVYes                        0.499244   0.097284   5.132 2.87e-07 ***\n",
       "StreamingMoviesYes                    0.512229   0.096078   5.331 9.75e-08 ***\n",
       "ContractOne year                     -0.761785   0.106693  -7.140 9.33e-13 ***\n",
       "ContractTwo year                     -1.645836   0.180939  -9.096  < 2e-16 ***\n",
       "PaperlessBillingYes                   0.322747   0.074537   4.330 1.49e-05 ***\n",
       "PaymentMethodCredit card (automatic) -0.072134   0.113573  -0.635 0.525338    \n",
       "PaymentMethodElectronic check         0.324041   0.094235   3.439 0.000585 ***\n",
       "PaymentMethodMailed check             0.004782   0.114096   0.042 0.966567    \n",
       "tenure_category2-4 years             -0.358519   0.106977  -3.351 0.000804 ***\n",
       "tenure_category4-5 years             -0.604681   0.140801  -4.295 1.75e-05 ***\n",
       "tenure_categoryOver 5 years          -0.857380   0.163109  -5.257 1.47e-07 ***\n",
       "tenure_categoryUnder 1 year           0.909520   0.096312   9.443  < 2e-16 ***\n",
       "---\n",
       "Signif. codes:  0 '***' 0.001 '**' 0.01 '*' 0.05 '.' 0.1 ' ' 1\n",
       "\n",
       "(Dispersion parameter for binomial family taken to be 1)\n",
       "\n",
       "    Null deviance: 8143.4  on 7031  degrees of freedom\n",
       "Residual deviance: 5850.5  on 7011  degrees of freedom\n",
       "AIC: 5892.5\n",
       "\n",
       "Number of Fisher Scoring iterations: 6\n"
      ]
     },
     "metadata": {},
     "output_type": "display_data"
    }
   ],
   "source": [
    "#Multiple Logistic Regression - multiple predictor variable\n",
    "logistiX <- glm(Churn ~ MonthlyCharges+SeniorCitizen+Dependents+MultipleLines+InternetService+OnlineSecurity+TechSupport+StreamingTV+StreamingMovies+Contract+PaperlessBilling+PaymentMethod+tenure_category, data=customer_data, family=binomial)\n",
    "summary(logistiX)"
   ]
  },
  {
   "cell_type": "code",
   "execution_count": 138,
   "metadata": {},
   "outputs": [],
   "source": [
    "# Partition data - train (80%) & test (20%)\n",
    "set.seed(1234)\n",
    "ind <- sample(2, nrow(customer_data), replace = T, prob = c(0.8, 0.2))\n",
    "train <- customer_data[ind==1,]\n",
    "test <- customer_data[ind==2,]"
   ]
  },
  {
   "cell_type": "code",
   "execution_count": 141,
   "metadata": {},
   "outputs": [
    {
     "data": {
      "text/html": [
       "<ol class=list-inline>\n",
       "\t<li>5622</li>\n",
       "\t<li>19</li>\n",
       "</ol>\n"
      ],
      "text/latex": [
       "\\begin{enumerate*}\n",
       "\\item 5622\n",
       "\\item 19\n",
       "\\end{enumerate*}\n"
      ],
      "text/markdown": [
       "1. 5622\n",
       "2. 19\n",
       "\n",
       "\n"
      ],
      "text/plain": [
       "[1] 5622   19"
      ]
     },
     "metadata": {},
     "output_type": "display_data"
    },
    {
     "data": {
      "text/html": [
       "<ol class=list-inline>\n",
       "\t<li>1410</li>\n",
       "\t<li>19</li>\n",
       "</ol>\n"
      ],
      "text/latex": [
       "\\begin{enumerate*}\n",
       "\\item 1410\n",
       "\\item 19\n",
       "\\end{enumerate*}\n"
      ],
      "text/markdown": [
       "1. 1410\n",
       "2. 19\n",
       "\n",
       "\n"
      ],
      "text/plain": [
       "[1] 1410   19"
      ]
     },
     "metadata": {},
     "output_type": "display_data"
    }
   ],
   "source": [
    "dim(train)\n",
    "dim(test)"
   ]
  },
  {
   "cell_type": "code",
   "execution_count": 194,
   "metadata": {},
   "outputs": [
    {
     "data": {
      "text/html": [
       "<dl class=dl-horizontal>\n",
       "\t<dt>1</dt>\n",
       "\t\t<dd>0.573827262518711</dd>\n",
       "\t<dt>2</dt>\n",
       "\t\t<dd>0.0367348262097764</dd>\n",
       "\t<dt>3</dt>\n",
       "\t\t<dd>0.300931469845044</dd>\n",
       "\t<dt>4</dt>\n",
       "\t\t<dd>0.0413452466218111</dd>\n",
       "\t<dt>6</dt>\n",
       "\t\t<dd>0.827148012948219</dd>\n",
       "\t<dt>7</dt>\n",
       "\t\t<dd>0.461188837358768</dd>\n",
       "</dl>\n"
      ],
      "text/latex": [
       "\\begin{description*}\n",
       "\\item[1] 0.573827262518711\n",
       "\\item[2] 0.0367348262097764\n",
       "\\item[3] 0.300931469845044\n",
       "\\item[4] 0.0413452466218111\n",
       "\\item[6] 0.827148012948219\n",
       "\\item[7] 0.461188837358768\n",
       "\\end{description*}\n"
      ],
      "text/markdown": [
       "1\n",
       ":   0.5738272625187112\n",
       ":   0.03673482620977643\n",
       ":   0.3009314698450444\n",
       ":   0.04134524662181116\n",
       ":   0.8271480129482197\n",
       ":   0.461188837358768\n",
       "\n"
      ],
      "text/plain": [
       "         1          2          3          4          6          7 \n",
       "0.57382726 0.03673483 0.30093147 0.04134525 0.82714801 0.46118884 "
      ]
     },
     "metadata": {},
     "output_type": "display_data"
    }
   ],
   "source": [
    "# Prediction with Training data\n",
    "predict_probability <- predict(logistiX, train, type = 'response')\n",
    "head(predict_probability)"
   ]
  },
  {
   "cell_type": "code",
   "execution_count": 144,
   "metadata": {},
   "outputs": [
    {
     "data": {
      "text/plain": [
       "         Actual\n",
       "Predicted   No  Yes\n",
       "        0 3759  697\n",
       "        1  392  774"
      ]
     },
     "metadata": {},
     "output_type": "display_data"
    },
    {
     "data": {
      "text/html": [
       "0.193703308431163"
      ],
      "text/latex": [
       "0.193703308431163"
      ],
      "text/markdown": [
       "0.193703308431163"
      ],
      "text/plain": [
       "[1] 0.1937033"
      ]
     },
     "metadata": {},
     "output_type": "display_data"
    }
   ],
   "source": [
    "# Misclassification error - train data\n",
    "predict_Churn <- ifelse(predict_probability>0.5, 1, 0)\n",
    "\n",
    "#Confusion Matrix\n",
    "tab1 <- table(Predicted = predict_Churn, Actual = train$Churn)\n",
    "tab1\n",
    "1 - sum(diag(tab1))/sum(tab1)"
   ]
  },
  {
   "cell_type": "code",
   "execution_count": 195,
   "metadata": {},
   "outputs": [
    {
     "data": {
      "text/html": [
       "<dl class=dl-horizontal>\n",
       "\t<dt>5</dt>\n",
       "\t\t<dd>0.696183045190399</dd>\n",
       "\t<dt>14</dt>\n",
       "\t\t<dd>0.409587720301512</dd>\n",
       "\t<dt>16</dt>\n",
       "\t\t<dd>0.0292459253398351</dd>\n",
       "\t<dt>26</dt>\n",
       "\t\t<dd>0.104427020848389</dd>\n",
       "\t<dt>28</dt>\n",
       "\t\t<dd>0.455449862065976</dd>\n",
       "\t<dt>29</dt>\n",
       "\t\t<dd>0.018420575532295</dd>\n",
       "</dl>\n"
      ],
      "text/latex": [
       "\\begin{description*}\n",
       "\\item[5] 0.696183045190399\n",
       "\\item[14] 0.409587720301512\n",
       "\\item[16] 0.0292459253398351\n",
       "\\item[26] 0.104427020848389\n",
       "\\item[28] 0.455449862065976\n",
       "\\item[29] 0.018420575532295\n",
       "\\end{description*}\n"
      ],
      "text/markdown": [
       "5\n",
       ":   0.69618304519039914\n",
       ":   0.40958772030151216\n",
       ":   0.029245925339835126\n",
       ":   0.10442702084838928\n",
       ":   0.45544986206597629\n",
       ":   0.018420575532295\n",
       "\n"
      ],
      "text/plain": [
       "         5         14         16         26         28         29 \n",
       "0.69618305 0.40958772 0.02924593 0.10442702 0.45544986 0.01842058 "
      ]
     },
     "metadata": {},
     "output_type": "display_data"
    }
   ],
   "source": [
    "# Prediction with Testing data\n",
    "predict_probability_test <- predict(logistiX, test, type = 'response')\n",
    "head(predict_probability_test)"
   ]
  },
  {
   "cell_type": "code",
   "execution_count": 152,
   "metadata": {},
   "outputs": [
    {
     "data": {
      "text/plain": [
       "         Actual\n",
       "Predicted  No Yes\n",
       "        0 921 208\n",
       "        1  91 190"
      ]
     },
     "metadata": {},
     "output_type": "display_data"
    },
    {
     "data": {
      "text/html": [
       "0.212056737588653"
      ],
      "text/latex": [
       "0.212056737588653"
      ],
      "text/markdown": [
       "0.212056737588653"
      ],
      "text/plain": [
       "[1] 0.2120567"
      ]
     },
     "metadata": {},
     "output_type": "display_data"
    }
   ],
   "source": [
    "# Misclassification error - test data\n",
    "predict_Churn_Test <- ifelse(predict_probability_test>0.5, 1, 0)\n",
    "\n",
    "#Confusion Matrix\n",
    "tab2 <- table(Predicted = predict_Churn_Test, Actual = test$Churn)\n",
    "tab2\n",
    "1 - sum(diag(tab2))/sum(tab2)"
   ]
  },
  {
   "cell_type": "markdown",
   "metadata": {},
   "source": [
    "\n",
    "From tabular comparision, we can see that from training data, only ~19% of data were misclassified i.e. Customers who were predicted to churn but did not and vice versa. Hence, data provided were not extremely discriminating. It was still confident to use logistic model.\n",
    "\n",
    "After applying model, we use train and test data for prediction. Misclassification error was not huge from testing data(21.2%). Hence, we can also safely say that data is not that discriminating.\n"
   ]
  },
  {
   "cell_type": "code",
   "execution_count": 63,
   "metadata": {},
   "outputs": [
    {
     "data": {
      "text/html": [
       "0"
      ],
      "text/latex": [
       "0"
      ],
      "text/markdown": [
       "0"
      ],
      "text/plain": [
       "[1] 0"
      ]
     },
     "metadata": {},
     "output_type": "display_data"
    }
   ],
   "source": [
    "# Goodness of fit test\n",
    "with(logistiX, pchisq(null.deviance - deviance, df.null-df.residual, lower.tail = F))"
   ]
  },
  {
   "cell_type": "markdown",
   "metadata": {},
   "source": [
    "Goodness of fit test showed that probability is almost 0 which gives confidence that the model is statistically significant, and data is not discriminating."
   ]
  },
  {
   "cell_type": "code",
   "execution_count": 196,
   "metadata": {},
   "outputs": [],
   "source": [
    "#Another method\n",
    "#LogLikelihood\n",
    "ll_null <- logistiX$null.deviance/-2\n",
    "ll_proposed <- logistiX$deviance/-2"
   ]
  },
  {
   "cell_type": "code",
   "execution_count": 197,
   "metadata": {},
   "outputs": [
    {
     "data": {
      "text/html": [
       "0.281557249100987"
      ],
      "text/latex": [
       "0.281557249100987"
      ],
      "text/markdown": [
       "0.281557249100987"
      ],
      "text/plain": [
       "[1] 0.2815572"
      ]
     },
     "metadata": {},
     "output_type": "display_data"
    }
   ],
   "source": [
    "#Pseudo R_Square = R^2 = [LL(Null) - LL(Proposed) ] / LL(Null)\n",
    "R_square<-(ll_null - ll_proposed) / ll_null\n",
    "R_square"
   ]
  },
  {
   "cell_type": "code",
   "execution_count": 67,
   "metadata": {},
   "outputs": [
    {
     "data": {
      "text/html": [
       "0"
      ],
      "text/latex": [
       "0"
      ],
      "text/markdown": [
       "0"
      ],
      "text/plain": [
       "[1] 0"
      ]
     },
     "metadata": {},
     "output_type": "display_data"
    }
   ],
   "source": [
    "#p-value for R^2\n",
    "1-pchisq(2*(ll_proposed-ll_null), df=(length(logistiX$coefficients)-1))"
   ]
  },
  {
   "cell_type": "code",
   "execution_count": 198,
   "metadata": {},
   "outputs": [
    {
     "name": "stderr",
     "output_type": "stream",
     "text": [
      "Saving 6.67 x 6.67 in image\n"
     ]
    },
    {
     "data": {
      "image/png": "[encoded data removed]",
      "text/plain": [
       "plot without title"
      ]
     },
     "metadata": {},
     "output_type": "display_data"
    }
   ],
   "source": [
    "#Plotting data\n",
    "predicted_data <- data.frame(ChurnProbability= logistiX$fitted.values, Churn=customer_data$Churn)\n",
    "predicted_data <- predicted_data[order(predicted_data$ChurnProbability, decreasing=FALSE),]\n",
    "predicted_data$rank <- 1:nrow(predicted_data)\n",
    "ggplot(data=predicted_data, aes(x= rank, y=ChurnProbability))+geom_point(aes(color=Churn))+xlab(\"Index\")\n",
    "ggsave(\"C:/GitBird Projects/BellCoCustomerChurn/Churn Probability.jpg\")"
   ]
  },
  {
   "cell_type": "markdown",
   "metadata": {},
   "source": [
    "Churn probability prediction is given in as curve plot ranging from 0 to 1. The color prediction helps user take a quick glance for error margin. Since probability is continuous variable between 0 and 1 and does not have linear relationship with index, we can use ggplot and not bar plot or pie chart.\n",
    "\n",
    "Above is graph of prediction. In the cluster, we can see:\n",
    "- Most clients who churned are predicted to have high probability of churning <font color=turquoise>(Turquoise)</font>\n",
    "- Most clients who did not churn are predicted to have low probablity of churning <font color=salmon>(Salmon Pink)</font>\n",
    "\n",
    "Hence, we visually can see that there were very few clients who were predicted to be churned but did not and vice versa."
   ]
  },
  {
   "cell_type": "markdown",
   "metadata": {},
   "source": [
    "## Random Forest\n",
    "\n",
    "Random forest is helpful in gathering important variables (numeric or categorical) for classification. It generates estimate of error as model building progresses and can handle large amount of data. "
   ]
  },
  {
   "cell_type": "code",
   "execution_count": 154,
   "metadata": {},
   "outputs": [
    {
     "data": {
      "text/plain": [
       "\n",
       "Call:\n",
       " randomForest(formula = Churn ~ ., data = customer_data) \n",
       "               Type of random forest: classification\n",
       "                     Number of trees: 500\n",
       "No. of variables tried at each split: 4\n",
       "\n",
       "        OOB estimate of  error rate: 21.57%\n",
       "Confusion matrix:\n",
       "      No Yes class.error\n",
       "No  4603 560   0.1084641\n",
       "Yes  957 912   0.5120385"
      ]
     },
     "metadata": {},
     "output_type": "display_data"
    }
   ],
   "source": [
    "#Random Forest Model\n",
    "rfModel<- randomForest(Churn ~., data = customer_data)\n",
    "rfModel\n"
   ]
  },
  {
   "cell_type": "code",
   "execution_count": 156,
   "metadata": {},
   "outputs": [
    {
     "data": {
      "image/png": "[encoded data removed]",
      "text/plain": [
       "Plot with title \"rfModel\""
      ]
     },
     "metadata": {},
     "output_type": "display_data"
    }
   ],
   "source": [
    "plot(rfModel)"
   ]
  },
  {
   "cell_type": "code",
   "execution_count": 157,
   "metadata": {},
   "outputs": [
    {
     "name": "stderr",
     "output_type": "stream",
     "text": [
      "Warning message in RColorBrewer::brewer.pal(nlevs, \"Set1\"):\n",
      "\"minimal value for n is 3, returning requested palette with 3 different levels\n",
      "\""
     ]
    },
    {
     "data": {
      "image/png": "[encoded data removed]",
      "text/plain": [
       "plot without title"
      ]
     },
     "metadata": {},
     "output_type": "display_data"
    }
   ],
   "source": [
    "plot(margin(rfModel,customer_data$Churn))"
   ]
  },
  {
   "cell_type": "code",
   "execution_count": 70,
   "metadata": {},
   "outputs": [
    {
     "data": {
      "text/plain": [
       "Confusion Matrix and Statistics\n",
       "\n",
       "          Reference\n",
       "Prediction   No  Yes\n",
       "       No  4000  170\n",
       "       Yes  151 1301\n",
       "                                          \n",
       "               Accuracy : 0.9429          \n",
       "                 95% CI : (0.9365, 0.9488)\n",
       "    No Information Rate : 0.7383          \n",
       "    P-Value [Acc > NIR] : <2e-16          \n",
       "                                          \n",
       "                  Kappa : 0.8516          \n",
       " Mcnemar's Test P-Value : 0.3151          \n",
       "                                          \n",
       "            Sensitivity : 0.9636          \n",
       "            Specificity : 0.8844          \n",
       "         Pos Pred Value : 0.9592          \n",
       "         Neg Pred Value : 0.8960          \n",
       "             Prevalence : 0.7383          \n",
       "         Detection Rate : 0.7115          \n",
       "   Detection Prevalence : 0.7417          \n",
       "      Balanced Accuracy : 0.9240          \n",
       "                                          \n",
       "       'Positive' Class : No              \n",
       "                                          "
      ]
     },
     "metadata": {},
     "output_type": "display_data"
    }
   ],
   "source": [
    "#Prediction and Confusion matrix using train data\n",
    "rfPredict_train <- predict(rfModel, train)\n",
    "confusionMatrix(rfPredict_train, train$Churn)"
   ]
  },
  {
   "cell_type": "code",
   "execution_count": 71,
   "metadata": {},
   "outputs": [
    {
     "data": {
      "text/plain": [
       "         Actual\n",
       "Predicted   No  Yes\n",
       "      No  4000  170\n",
       "      Yes  151 1301"
      ]
     },
     "metadata": {},
     "output_type": "display_data"
    },
    {
     "data": {
      "text/html": [
       "0.0570971184631803"
      ],
      "text/latex": [
       "0.0570971184631803"
      ],
      "text/markdown": [
       "0.0570971184631803"
      ],
      "text/plain": [
       "[1] 0.05709712"
      ]
     },
     "metadata": {},
     "output_type": "display_data"
    }
   ],
   "source": [
    "#Misclassification with train data\n",
    "tab_rf_train <- table(Predicted = rfPredict_train, Actual = train$Churn)\n",
    "tab_rf_train\n",
    "1 - sum(diag(tab_rf_train))/sum(tab_rf_train)"
   ]
  },
  {
   "cell_type": "code",
   "execution_count": 72,
   "metadata": {},
   "outputs": [
    {
     "data": {
      "text/plain": [
       "Confusion Matrix and Statistics\n",
       "\n",
       "          Reference\n",
       "Prediction  No Yes\n",
       "       No  974  43\n",
       "       Yes  38 355\n",
       "                                          \n",
       "               Accuracy : 0.9426          \n",
       "                 95% CI : (0.9291, 0.9541)\n",
       "    No Information Rate : 0.7177          \n",
       "    P-Value [Acc > NIR] : <2e-16          \n",
       "                                          \n",
       "                  Kappa : 0.8577          \n",
       " Mcnemar's Test P-Value : 0.6567          \n",
       "                                          \n",
       "            Sensitivity : 0.9625          \n",
       "            Specificity : 0.8920          \n",
       "         Pos Pred Value : 0.9577          \n",
       "         Neg Pred Value : 0.9033          \n",
       "             Prevalence : 0.7177          \n",
       "         Detection Rate : 0.6908          \n",
       "   Detection Prevalence : 0.7213          \n",
       "      Balanced Accuracy : 0.9272          \n",
       "                                          \n",
       "       'Positive' Class : No              \n",
       "                                          "
      ]
     },
     "metadata": {},
     "output_type": "display_data"
    }
   ],
   "source": [
    "#Prediction and Confusion matrix using test data\n",
    "rfPredict_test <- predict(rfModel, test)\n",
    "confusionMatrix(rfPredict_test, test$Churn)"
   ]
  },
  {
   "cell_type": "code",
   "execution_count": 73,
   "metadata": {},
   "outputs": [
    {
     "data": {
      "text/plain": [
       "         Actual\n",
       "Predicted  No Yes\n",
       "      No  974  43\n",
       "      Yes  38 355"
      ]
     },
     "metadata": {},
     "output_type": "display_data"
    },
    {
     "data": {
      "text/html": [
       "0.0574468085106383"
      ],
      "text/latex": [
       "0.0574468085106383"
      ],
      "text/markdown": [
       "0.0574468085106383"
      ],
      "text/plain": [
       "[1] 0.05744681"
      ]
     },
     "metadata": {},
     "output_type": "display_data"
    }
   ],
   "source": [
    "#Misclassification error with test data:\n",
    "tab_rf_test <- table(Predicted = rfPredict_test, Actual = test$Churn)\n",
    "tab_rf_test\n",
    "1 - sum(diag(tab_rf_test))/sum(tab_rf_test)"
   ]
  },
  {
   "cell_type": "markdown",
   "metadata": {},
   "source": [
    "Misclassification error when using random forest model is only 5.75%. Hence data was not discriminating in that light."
   ]
  },
  {
   "cell_type": "code",
   "execution_count": 159,
   "metadata": {},
   "outputs": [
    {
     "name": "stdout",
     "output_type": "stream",
     "text": [
      "mtry = 4  OOB error = 20.95% \n",
      "Searching left ...\n",
      "mtry = 8 \tOOB error = 22.11% \n",
      "-0.05517827 0.05 \n",
      "Searching right ...\n",
      "mtry = 2 \tOOB error = 19.96% \n",
      "0.0475382 0.05 \n"
     ]
    },
    {
     "data": {
      "image/png": "[encoded data removed]",
      "text/plain": [
       "plot without title"
      ]
     },
     "metadata": {},
     "output_type": "display_data"
    }
   ],
   "source": [
    "rfTune<-tuneRF(train[,-18], train[,18],\n",
    "       stepFactor = 0.5, plot= TRUE,\n",
    "       ntreeTry = 300, trace=TRUE, improve = 0.05)"
   ]
  },
  {
   "cell_type": "code",
   "execution_count": 199,
   "metadata": {},
   "outputs": [
    {
     "data": {
      "image/png": "[encoded data removed]",
      "text/plain": [
       "Plot with title \"No. of Nodes for the Trees\""
      ]
     },
     "metadata": {},
     "output_type": "display_data"
    }
   ],
   "source": [
    "# No. of nodes for the trees\n",
    "hist(treesize(rfModel), main = \"No. of Nodes for the Trees\", col = \"gold\")"
   ]
  },
  {
   "cell_type": "code",
   "execution_count": 75,
   "metadata": {},
   "outputs": [
    {
     "data": {
      "image/png": "[encoded data removed]",
      "text/plain": [
       "Plot with title \"Top 10 - Variable Importance\""
      ]
     },
     "metadata": {},
     "output_type": "display_data"
    }
   ],
   "source": [
    "# Most important predictor variables\n",
    "varImpPlot(rfModel, sort = T,n.var = 10, main = \"Top 10 - Variable Importance\")"
   ]
  },
  {
   "cell_type": "markdown",
   "metadata": {},
   "source": [
    "## Decision Tree\n",
    "Decision Tree is helpful in creating visual breakdown of major variables that influence churning and significant probability of churning. That way each node can be tracked and calculated on why people are churning.\n"
   ]
  },
  {
   "cell_type": "code",
   "execution_count": 105,
   "metadata": {},
   "outputs": [
    {
     "name": "stdout",
     "output_type": "stream",
     "text": [
      "\n",
      "\t Conditional inference tree with 10 terminal nodes\n",
      "\n",
      "Response:  Churn \n",
      "Inputs:  Contract, PaperlessBilling, tenure_category \n",
      "Number of observations:  5622 \n",
      "\n",
      "1) Contract == {One year, Two year}; criterion = 1, statistic = 929.803\n",
      "  2) Contract == {Two year}; criterion = 1, statistic = 60.965\n",
      "    3) PaperlessBilling == {No}; criterion = 0.967, statistic = 6.453\n",
      "      4)*  weights = 716 \n",
      "    3) PaperlessBilling == {Yes}\n",
      "      5)*  weights = 645 \n",
      "  2) Contract == {One year}\n",
      "    6) PaperlessBilling == {No}; criterion = 1, statistic = 14.18\n",
      "      7)*  weights = 535 \n",
      "    6) PaperlessBilling == {Yes}\n",
      "      8)*  weights = 645 \n",
      "1) Contract == {Month-to-month}\n",
      "  9) tenure_category == {1-2 years, 2-4 years, 4-5 years, Over 5 years }; criterion = 1, statistic = 125.396\n",
      "    10) PaperlessBilling == {No}; criterion = 1, statistic = 34.259\n",
      "      11)*  weights = 410 \n",
      "    10) PaperlessBilling == {Yes}\n",
      "      12) tenure_category == {2-4 years, 4-5 years, Over 5 years }; criterion = 1, statistic = 27.185\n",
      "        13) tenure_category == {4-5 years, Over 5 years }; criterion = 0.965, statistic = 8.853\n",
      "          14)*  weights = 211 \n",
      "        13) tenure_category == {2-4 years}\n",
      "          15)*  weights = 468 \n",
      "      12) tenure_category == {1-2 years}\n",
      "        16)*  weights = 400 \n",
      "  9) tenure_category == {Under 1 year}\n",
      "    17) PaperlessBilling == {No}; criterion = 1, statistic = 66.381\n",
      "      18)*  weights = 609 \n",
      "    17) PaperlessBilling == {Yes}\n",
      "      19)*  weights = 983 \n"
     ]
    },
    {
     "data": {
      "image/png": "[encoded data removed]",
      "text/plain": [
       "plot without title"
      ]
     },
     "metadata": {},
     "output_type": "display_data"
    }
   ],
   "source": [
    "#Decision Tree\n",
    "decision_tree <- ctree(Churn~Contract+PaperlessBilling+tenure_category, train)\n",
    "print(decision_tree)\n",
    "plot(decision_tree, type='simple')"
   ]
  },
  {
   "cell_type": "code",
   "execution_count": 201,
   "metadata": {},
   "outputs": [
    {
     "data": {
      "text/html": [
       "<ol class=list-inline>\n",
       "\t<li>Yes</li>\n",
       "\t<li>No</li>\n",
       "\t<li>Yes</li>\n",
       "\t<li>No</li>\n",
       "\t<li>Yes</li>\n",
       "\t<li>No</li>\n",
       "</ol>\n",
       "\n",
       "<details>\n",
       "\t<summary style=display:list-item;cursor:pointer>\n",
       "\t\t<strong>Levels</strong>:\n",
       "\t</summary>\n",
       "\t<ol class=list-inline>\n",
       "\t\t<li>'No'</li>\n",
       "\t\t<li>'Yes'</li>\n",
       "\t</ol>\n",
       "</details>"
      ],
      "text/latex": [
       "\\begin{enumerate*}\n",
       "\\item Yes\n",
       "\\item No\n",
       "\\item Yes\n",
       "\\item No\n",
       "\\item Yes\n",
       "\\item No\n",
       "\\end{enumerate*}\n",
       "\n",
       "\\emph{Levels}: \\begin{enumerate*}\n",
       "\\item 'No'\n",
       "\\item 'Yes'\n",
       "\\end{enumerate*}\n"
      ],
      "text/markdown": [
       "1. Yes\n",
       "2. No\n",
       "3. Yes\n",
       "4. No\n",
       "5. Yes\n",
       "6. No\n",
       "\n",
       "\n",
       "\n",
       "**Levels**: 1. 'No'\n",
       "2. 'Yes'\n",
       "\n",
       "\n"
      ],
      "text/plain": [
       "[1] Yes No  Yes No  Yes No \n",
       "Levels: No Yes"
      ]
     },
     "metadata": {},
     "output_type": "display_data"
    }
   ],
   "source": [
    "#training\n",
    "pred_tree_train <- predict(decision_tree, train)\n",
    "head(pred_tree_train)"
   ]
  },
  {
   "cell_type": "code",
   "execution_count": 200,
   "metadata": {},
   "outputs": [
    {
     "data": {
      "text/plain": [
       "         Actual\n",
       "Predicted   No  Yes\n",
       "      No  3749  890\n",
       "      Yes  402  581"
      ]
     },
     "metadata": {},
     "output_type": "display_data"
    },
    {
     "data": {
      "text/html": [
       "0.229811454998221"
      ],
      "text/latex": [
       "0.229811454998221"
      ],
      "text/markdown": [
       "0.229811454998221"
      ],
      "text/plain": [
       "[1] 0.2298115"
      ]
     },
     "metadata": {},
     "output_type": "display_data"
    }
   ],
   "source": [
    "#Misclassification error with train data\n",
    "tab_tree_train<-table(Predicted = pred_tree_train, Actual = train$Churn)\n",
    "tab_tree_train\n",
    "1-sum(diag(tab_tree_train))/sum(tab_tree_train)"
   ]
  },
  {
   "cell_type": "markdown",
   "metadata": {},
   "source": [
    "Misclassification error for Decision tree with training data is ~23%"
   ]
  },
  {
   "cell_type": "code",
   "execution_count": 84,
   "metadata": {},
   "outputs": [
    {
     "name": "stdout",
     "output_type": "stream",
     "text": [
      "[1] \"Decision Tree Accuracy:     0.787943262411347\"\n"
     ]
    }
   ],
   "source": [
    "#testing\n",
    "pred_tree_test <- predict(decision_tree, test)\n",
    "tab_tree_test <- table(Predicted = pred_tree_test, Actual = test$Churn)\n",
    "print(paste('Decision Tree Accuracy:    ',sum(diag(tab2))/sum(tab2)))"
   ]
  },
  {
   "cell_type": "code",
   "execution_count": 85,
   "metadata": {},
   "outputs": [
    {
     "data": {
      "text/html": [
       "0.243262411347518"
      ],
      "text/latex": [
       "0.243262411347518"
      ],
      "text/markdown": [
       "0.243262411347518"
      ],
      "text/plain": [
       "[1] 0.2432624"
      ]
     },
     "metadata": {},
     "output_type": "display_data"
    }
   ],
   "source": [
    "#Misclassification error with test data\n",
    "tab_tree_test<-table(Predicted = pred_tree_test, Actual = test$Churn)\n",
    "1-sum(diag(tab_tree_test))/sum(tab_tree_test)"
   ]
  },
  {
   "cell_type": "markdown",
   "metadata": {},
   "source": [
    "Misclassification error for Decision tree with testing data is ~24%"
   ]
  },
  {
   "cell_type": "markdown",
   "metadata": {},
   "source": [
    "## Summary\n",
    "\n",
    "__Descriptive__\n",
    "Large number of non-senior citizen churns. One who has phone service and who reached out to techsupport churns.\n",
    "\n",
    "__Diagnostic__\n",
    "Few factors that affect churning are: Monthly Charges, Tenure Category, Contract and Payment Method\n",
    "\n",
    "__Predictive__\n",
    "Misclassification error with logistic model: 19-25%\n",
    "Misclassification error with random forest model: ~5%\n",
    "Misclassification error with decision tree model: 22-24%\n",
    "\n",
    "__Prescriptive__\n",
    "I would suggest the company to find customers who are on month to month contract, with less than 1-year tenure who had called TechSupport for any reason. They could be the one who are leaving more. I would know further reasons case by case basis and probably decrease their monthly charges as an incentive to stay in the service.\n",
    "\n",
    "<font size=1.5>__References__:\n",
    "\t\t\t\t\n",
    "- https://www.statmethods.net/management/variables.html\n",
    "\t Robert I. Kabacoff, Ph.D.\n",
    "\tQuick-R powered by DataCamp\n",
    "- https://www.dummies.com/programming/r/the-benefits-of-using-r/\n",
    "\tAndrie de Vries, Joris Meys\n",
    "\tDummies, a wiley brand\n",
    "- https://www.statisticshowto.datasciencecentral.com/univariate/\n",
    "\tStephanie Glen\t\tStatisticsHowTo\n",
    "- https://www.statisticshowto.datasciencecentral.com/bivariate-analysis/\n",
    "\tStephanie Glen\t\tStatisticsHowTo </font>\n"
   ]
  },
  {
   "cell_type": "code",
   "execution_count": null,
   "metadata": {},
   "outputs": [],
   "source": []
  }
 ],
 "metadata": {
  "kernelspec": {
   "display_name": "R",
   "language": "R",
   "name": "ir"
  },
  "language_info": {
   "codemirror_mode": "r",
   "file_extension": ".r",
   "mimetype": "text/x-r-source",
   "name": "R",
   "pygments_lexer": "r",
   "version": "3.5.3"
  }
 },
 "nbformat": 4,
 "nbformat_minor": 2
}
